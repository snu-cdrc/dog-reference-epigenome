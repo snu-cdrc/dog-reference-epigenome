{
 "cells": [
  {
   "cell_type": "code",
   "execution_count": 3,
   "id": "e2f2f5ed",
   "metadata": {},
   "outputs": [],
   "source": [
    "import pandas as pd\n",
    "import os"
   ]
  },
  {
   "cell_type": "code",
   "execution_count": 4,
   "id": "162318b8",
   "metadata": {},
   "outputs": [],
   "source": [
    "# path\n",
    "path_in_cf = '01_merge_bed/cf3'\n",
    "path_in_hg = '01_merge_bed/hg38'\n",
    "path_in_mm = '01_merge_bed/mm10'\n",
    "path_out_cf = '02_ortho_bed_w2species/hg38_cf3'\n",
    "path_out_mm = '02_ortho_bed_w2species/hg38_mm10'"
   ]
  },
  {
   "cell_type": "code",
   "execution_count": 5,
   "id": "0ef4807b",
   "metadata": {},
   "outputs": [],
   "source": [
    "ls_in_cf = sorted(os.listdir(path_in_cf))\n",
    "ls_in_hg = sorted(os.listdir(path_in_hg))\n",
    "ls_in_mm = sorted(os.listdir(path_in_mm))"
   ]
  },
  {
   "cell_type": "code",
   "execution_count": 6,
   "id": "1bd55fff",
   "metadata": {
    "scrolled": true
   },
   "outputs": [
    {
     "name": "stdout",
     "output_type": "stream",
     "text": [
      "CR_enh_hg38\n",
      "hg, cf, ortho: 135808 / 345642/ 135808\n",
      "CR_other_hg38\n",
      "hg, cf, ortho: 297619 / 1180396/ 297619\n",
      "CR_pro_hg38\n",
      "hg, cf, ortho: 86381 / 215622/ 86381\n"
     ]
    }
   ],
   "source": [
    "## Human\n",
    "for file in ls_in_hg:\n",
    "\tlabel = file.split('.')[0]\n",
    "\tprint(label)\n",
    "\n",
    "\t# Other species\n",
    "\tpd_in = pd.read_csv(f'{path_in_cf}/{label}.cf3.bed', sep='\\t', header=None, index_col=None)\n",
    "\tpd_in_label = pd_in[3]\n",
    "\t# Human\n",
    "\tpd_in_hg = pd.read_csv(f'{path_in_hg}/{file}', sep='\\t', header=None)\n",
    "\tpd_in_hg.index = pd_in_hg[3]\n",
    "\t\n",
    "\t# Extract row\n",
    "\tpd_in_orth_cf = pd_in_hg.loc[pd_in_label]\n",
    "\tprint(f'hg, cf, ortho: {pd_in_label.shape[0]} / {pd_in_hg.shape[0]}/ {pd_in_orth_cf.shape[0]}')\n",
    "\t\n",
    "\t# Write ortho bed\n",
    "\tpd_in_orth_cf.to_csv(f'{path_out_cf}/{label}_ortho.bed', sep='\\t', header=None, index=None)"
   ]
  },
  {
   "cell_type": "code",
   "execution_count": 7,
   "id": "bd4724bd",
   "metadata": {},
   "outputs": [
    {
     "name": "stdout",
     "output_type": "stream",
     "text": [
      "CR_enh_hg38\n",
      "hg, mm, ortho: 54838 / 345642/ 54838\n",
      "CR_other_hg38\n",
      "hg, mm, ortho: 120491 / 1180396/ 120491\n",
      "CR_pro_hg38\n",
      "hg, mm, ortho: 52368 / 215622/ 52368\n"
     ]
    }
   ],
   "source": [
    "## Mouse\n",
    "for file in ls_in_hg:\n",
    "\tlabel = file.split('.')[0]\n",
    "\tprint(label)\n",
    "\n",
    "\t# Other species\n",
    "\tpd_in = pd.read_csv(f'{path_in_mm}/{label}.mm10.bed', sep='\\t', header=None, index_col=None)\n",
    "\tpd_in_label = pd_in[3]\n",
    "\t# Human\n",
    "\tpd_in_hg = pd.read_csv(f'{path_in_hg}/{file}', sep='\\t', header=None)\n",
    "\tpd_in_hg.index = pd_in_hg[3]\n",
    "\t\n",
    "\t# Extract row\n",
    "\tpd_in_orth_mm = pd_in_hg.loc[pd_in_label]\n",
    "\tprint(f'hg, mm, ortho: {pd_in_label.shape[0]} / {pd_in_hg.shape[0]}/ {pd_in_orth_mm.shape[0]}')\n",
    "\t\n",
    "\t# Write ortho bed\n",
    "\tpd_in_orth_mm.to_csv(f'{path_out_mm}/{label}_ortho.bed', sep='\\t', header=None, index=None)"
   ]
  },
  {
   "cell_type": "code",
   "execution_count": null,
   "id": "e86b8aad",
   "metadata": {},
   "outputs": [],
   "source": []
  }
 ],
 "metadata": {
  "kernelspec": {
   "display_name": "Python 3",
   "language": "python",
   "name": "python3"
  },
  "language_info": {
   "codemirror_mode": {
    "name": "ipython",
    "version": 3
   },
   "file_extension": ".py",
   "mimetype": "text/x-python",
   "name": "python",
   "nbconvert_exporter": "python",
   "pygments_lexer": "ipython3",
   "version": "3.9.13"
  }
 },
 "nbformat": 4,
 "nbformat_minor": 5
}
