{
 "cells": [
  {
   "cell_type": "code",
   "execution_count": 1,
   "id": "e2f2f5ed",
   "metadata": {},
   "outputs": [],
   "source": [
    "import pandas as pd\n",
    "import os"
   ]
  },
  {
   "cell_type": "code",
   "execution_count": 2,
   "id": "162318b8",
   "metadata": {},
   "outputs": [],
   "source": [
    "# path\n",
    "path_in_cf = '01_merge_bed/cf3'\n",
    "path_in_hg = '01_merge_bed/hg38'\n",
    "path_in_mm = '01_merge_bed/mm10'\n",
    "path_out_cf = '02_ortho_bed_w2species/mm10_cf3'\n",
    "path_out_hg = '02_ortho_bed_w2species/mm10_hg38'"
   ]
  },
  {
   "cell_type": "code",
   "execution_count": 3,
   "id": "0ef4807b",
   "metadata": {},
   "outputs": [],
   "source": [
    "ls_in_cf = sorted(os.listdir(path_in_cf))\n",
    "ls_in_hg = sorted(os.listdir(path_in_hg))\n",
    "ls_in_mm = sorted(os.listdir(path_in_mm))"
   ]
  },
  {
   "cell_type": "code",
   "execution_count": 4,
   "id": "1bd55fff",
   "metadata": {
    "scrolled": true
   },
   "outputs": [
    {
     "name": "stdout",
     "output_type": "stream",
     "text": [
      "ST_rep1_enh_mm10\n",
      "hg, mm, ortho: 83510 / 250580/ 83510\n",
      "ST_rep1_other_mm10\n",
      "hg, mm, ortho: 9664 / 38103/ 9664\n",
      "ST_rep1_pro_mm10\n",
      "hg, mm, ortho: 97550 / 208757/ 97550\n",
      "ST_rep2_enh_mm10\n",
      "hg, mm, ortho: 83510 / 250580/ 83510\n",
      "ST_rep2_other_mm10\n",
      "hg, mm, ortho: 9664 / 38103/ 9664\n",
      "ST_rep2_pro_mm10\n",
      "hg, mm, ortho: 97550 / 208757/ 97550\n"
     ]
    }
   ],
   "source": [
    "## Human\n",
    "for file in ls_in_mm:\n",
    "\tlabel = file.split('.')[0]\n",
    "\tprint(label)\n",
    "\n",
    "\t# Other species\n",
    "\tpd_in = pd.read_csv(f'{path_in_hg}/{label}.hg38.bed', sep='\\t', header=None, index_col=None)\n",
    "\tpd_in_label = pd_in[3]\n",
    "\t# Mouse\n",
    "\tpd_in_mm = pd.read_csv(f'{path_in_mm}/{file}', sep='\\t', header=None)\n",
    "\tpd_in_mm.index = pd_in_mm[3]\n",
    "\t\n",
    "\t# Extract row\n",
    "\tpd_in_orth_hg = pd_in_mm.loc[pd_in_label]\n",
    "\tprint(f'hg, mm, ortho: {pd_in_label.shape[0]} / {pd_in_mm.shape[0]}/ {pd_in_orth_hg.shape[0]}')\n",
    "\t\n",
    "\t# Write ortho bed\n",
    "\tpd_in_orth_hg.to_csv(f'{path_out_hg}/{label}_ortho.bed', sep='\\t', header=None, index=None)"
   ]
  },
  {
   "cell_type": "code",
   "execution_count": 5,
   "id": "bd4724bd",
   "metadata": {},
   "outputs": [
    {
     "name": "stdout",
     "output_type": "stream",
     "text": [
      "ST_rep1_enh_mm10\n",
      "cf, mm, ortho: 59921 / 250580/ 59921\n",
      "ST_rep1_other_mm10\n",
      "cf, mm, ortho: 7142 / 38103/ 7142\n",
      "ST_rep1_pro_mm10\n",
      "cf, mm, ortho: 65659 / 208757/ 65659\n",
      "ST_rep2_enh_mm10\n",
      "cf, mm, ortho: 59921 / 250580/ 59921\n",
      "ST_rep2_other_mm10\n",
      "cf, mm, ortho: 7142 / 38103/ 7142\n",
      "ST_rep2_pro_mm10\n",
      "cf, mm, ortho: 65659 / 208757/ 65659\n"
     ]
    }
   ],
   "source": [
    "## Human\n",
    "for file in ls_in_mm:\n",
    "\tlabel = file.split('.')[0]\n",
    "\tprint(label)\n",
    "\n",
    "\t# Other species\n",
    "\tpd_in = pd.read_csv(f'{path_in_cf}/{label}.cf3.bed', sep='\\t', header=None, index_col=None)\n",
    "\tpd_in_label = pd_in[3]\n",
    "\t# Mouse\n",
    "\tpd_in_mm = pd.read_csv(f'{path_in_mm}/{file}', sep='\\t', header=None)\n",
    "\tpd_in_mm.index = pd_in_mm[3]\n",
    "\t\n",
    "\t# Extract row\n",
    "\tpd_in_orth_cf = pd_in_mm.loc[pd_in_label]\n",
    "\tprint(f'cf, mm, ortho: {pd_in_label.shape[0]} / {pd_in_mm.shape[0]}/ {pd_in_orth_cf.shape[0]}')\n",
    "\t\n",
    "\t# Write ortho bed\n",
    "\tpd_in_orth_cf.to_csv(f'{path_out_cf}/{label}_ortho.bed', sep='\\t', header=None, index=None)"
   ]
  },
  {
   "cell_type": "code",
   "execution_count": null,
   "id": "e86b8aad",
   "metadata": {},
   "outputs": [],
   "source": []
  }
 ],
 "metadata": {
  "kernelspec": {
   "display_name": "Python 3",
   "language": "python",
   "name": "python3"
  },
  "language_info": {
   "codemirror_mode": {
    "name": "ipython",
    "version": 3
   },
   "file_extension": ".py",
   "mimetype": "text/x-python",
   "name": "python",
   "nbconvert_exporter": "python",
   "pygments_lexer": "ipython3",
   "version": "3.9.13"
  }
 },
 "nbformat": 4,
 "nbformat_minor": 5
}
